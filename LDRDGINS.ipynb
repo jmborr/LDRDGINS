{
 "metadata": {
  "kernelspec": {
   "display_name": "Python 2",
   "language": "python",
   "name": "python2"
  },
  "language_info": {
   "codemirror_mode": {
    "name": "ipython",
    "version": 2
   },
   "file_extension": ".py",
   "mimetype": "text/x-python",
   "name": "python",
   "nbconvert_exporter": "python",
   "pygments_lexer": "ipython2",
   "version": "2.7.5"
  },
  "name": "",
  "signature": "sha256:4a6d4ee2ea471d9b22ede54000e27d37903612dfc1a604a85dcb580558c06e61"
 },
 "nbformat": 3,
 "nbformat_minor": 0,
 "worksheets": [
  {
   "cells": [
    {
     "cell_type": "markdown",
     "metadata": {},
     "source": [
      "<h1>LDRD GINS</h1>\n",
      "\n",
      "<a id='Table of Contents'></a><h3>Table of Contents</h3>  \n",
      "<a href='#Setup'>Setup (imports)</a>  \n",
      "<a href='#Participants'>Participants</a>  \n",
      "<a href='#Goals'>Goals</a>  \n",
      "\n",
      "<a id=\"benchmark\"></a><b>Benchmark</b>  \n",
      "<a href='#benchmark.template'>template title</a>  \n",
      "\n",
      "<a id='Meetings'></a><b>Meetings</b>  \n",
      "<a href='#Meetings.2016.XX.XX'>Meeting template</a>  \n",
      "\n",
      "<a href='#Syntax'>HTML and MARKDOWN SYNTAX EXAMPLES</a></br>"
     ]
    },
    {
     "cell_type": "markdown",
     "metadata": {},
     "source": [
      "(<a href='#Table of Contents'>Top</a>)<a id='Setup'></a><h3>Setup (imports)</h3>"
     ]
    },
    {
     "cell_type": "code",
     "collapsed": false,
     "input": [
      "%matplotlib inline\n",
      "import numpy as np\n",
      "import scipy as sc\n",
      "import lmfit as lm\n",
      "import matplotlib.pyplot as plt"
     ],
     "language": "python",
     "metadata": {},
     "outputs": [],
     "prompt_number": 2
    },
    {
     "cell_type": "markdown",
     "metadata": {},
     "source": [
      "(<a href='#Table of Contents'>Top</a>)<a id='Participants'></a><h3>Participants</h3>\n",
      "\n",
      "* Valeria Leuter\n",
      "* Andrei Savici\n",
      "* Steven Han\n",
      "* Rajeev Kumar (CNMS/CSMD)\n",
      "* Eric Lingerfelt (CSMD)"
     ]
    },
    {
     "cell_type": "markdown",
     "metadata": {},
     "source": [
      "(<a href='#Table of Contents'>Top</a>)<a id='Goals'></a><h3>Goals</h3>\n",
      "\n",
      "My tasks are the following:  \n",
      "\n",
      "* Script to calculate $\\chi^2$ between a model and experimental specular profile.  \n",
      "* Implementation of the swarm particle algorithm to try new models.  "
     ]
    },
    {
     "cell_type": "markdown",
     "metadata": {},
     "source": [
      "(<a href='#benchmark'>Top</a>)<h2>Benchmark</h2>\n",
      "A multilayer system for organic spintronics multilayer film with the following structure:\n",
      "SrTiO2 substrate//LaSrMnO3/SD-PFO (polymer)/Co/Ag.  \n",
      "It was measured in a saturating external magnetic field of 1T at room T.  \n",
      "\n",
      "In the [index.html](benchmark/index.html) file you will find the resolution function and layer-by-layer parameters.  \n",
      "File [profile1.png](benchmark/profile1.png) show the plots (depth profiles) of all components of the model.  \n",
      "\n",
      "The experimental data consist of three files:  \n",
      "Q, exp1, exp2 -- q is momentum transfer, exp1 is R+ and exp2 is R-. File <i>exp1</i> contains intensity and error (same for <i>exp2</i>). File <i>q.dat</i> contains the values of $Q$ for the intensity values in the exp files.  \n",
      "\n",
      "The corresponding model after the fit also consist of 3 files:  \n",
      "Q, theor1, theor2- q is momentum transfer, theor1 is R+ and theor2 is R-. File  <i>theor1</i> contains intensity (same for <i>theor12</i>). File <i>q.dat</i> contains the values of $Q$ for the intensity values in the exp files. \n",
      "\n",
      "Plots [reflectivity1.png](benchmark/reflectivity1.png) and [reflectivity2.png](benchmark/reflectivity2.png) show the data (green) and fit (blue).  \n",
      "\n",
      "We can discuss if you need any explanation or additional information."
     ]
    },
    {
     "cell_type": "markdown",
     "metadata": {},
     "source": [
      "(<a href='#benchmark'>Top</a>)<a id='benchmark.template'></a><h3>Template title</h3>  \n",
      "Write something here.  "
     ]
    },
    {
     "cell_type": "markdown",
     "metadata": {},
     "source": [
      "<a id='Meetings'></a><h2>Meetings</h2>"
     ]
    },
    {
     "cell_type": "markdown",
     "metadata": {},
     "source": [
      "(<a href='#Meetings'>Top</a>)<a id='Meetings.2016.XX.XX'></a><h3>Meeting template</h3>\n",
      "Write something here."
     ]
    },
    {
     "cell_type": "markdown",
     "metadata": {},
     "source": [
      "(<a href='#Table of Contents'>Top</a>)<a id='Syntax'></a><h3>Syntax Examples</h3>\n",
      "local link: [link](files/link)</br>\n",
      "remote link: <a href=\"http://ambermd.org/\">http://ambermd.org</a>\n",
      "<font face=\"courier new\"> font face=\"courier new\" </font><br/>\n",
      "$$S_{model}(Q,E)=A(Q)\\cdot S_{elastic}(E) + B(Q)\\cdot S_{simulation}(Q,E)\\otimes S_{elastic}(E) + C(Q)+D(Q)\\cdot E$$\n",
      "<pre> Quoted text </pre>\n",
      "<center><table><tr>\n",
      "<td><a href=\"files/image.png\"><img src=\"files/image.png\" width=\"300\" height=\"250\" alt=\"image here\"></a> <br/>\n",
      "    <i>image caption</i></td>\n",
      "<td>some text</td>\n",
      "</tr></table></center>"
     ]
    },
    {
     "cell_type": "code",
     "collapsed": false,
     "input": [],
     "language": "python",
     "metadata": {},
     "outputs": [],
     "prompt_number": null
    }
   ],
   "metadata": {}
  }
 ]
}
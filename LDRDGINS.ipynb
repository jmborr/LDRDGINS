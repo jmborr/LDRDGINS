{
 "metadata": {
  "kernelspec": {
   "display_name": "Python 2",
   "language": "python",
   "name": "python2"
  },
  "language_info": {
   "codemirror_mode": {
    "name": "ipython",
    "version": 2
   },
   "file_extension": ".py",
   "mimetype": "text/x-python",
   "name": "python",
   "nbconvert_exporter": "python",
   "pygments_lexer": "ipython2",
   "version": "2.7.5"
  },
  "name": "",
  "signature": "sha256:d70339ae734bf32de320d6f225dadd39293bfe17855cd62110a5deac1fdc5881"
 },
 "nbformat": 3,
 "nbformat_minor": 0,
 "worksheets": [
  {
   "cells": [
    {
     "cell_type": "markdown",
     "metadata": {},
     "source": [
      "<h1>LDRD GINS</h1>\n",
      "\n",
      "<a id='Table of Contents'></a><h3>Table of Contents</h3>  \n",
      "<a href='#Setup'>Setup (imports)</a>  \n",
      "<a href='#Participants'>Participants</a>  \n",
      "<a href='#Goals'>Goals</a>  \n",
      "\n",
      "<a id=\"benchmark\"></a><b>Benchmark</b>  \n",
      "<a href='#benchmark.description'>Description</a>  \n",
      "<a href='#benchmark.resolution'>Resolution function</a>  \n",
      "\n",
      "<a id='Meetings'></a><b>Meetings</b>  \n",
      "<a href='#Meetings.2016.XX.XX'>Meeting template</a>  \n",
      "\n",
      "<a href='#Syntax'>HTML and MARKDOWN SYNTAX EXAMPLES</a></br>"
     ]
    },
    {
     "cell_type": "markdown",
     "metadata": {},
     "source": [
      "(<a href='#Table of Contents'>Top</a>)<a id='Setup'></a><h3>Setup (imports)</h3>"
     ]
    },
    {
     "cell_type": "code",
     "collapsed": false,
     "input": [
      "%matplotlib inline\n",
      "import numpy as np\n",
      "import scipy as sc\n",
      "import lmfit as lm\n",
      "import matplotlib.pyplot as plt"
     ],
     "language": "python",
     "metadata": {},
     "outputs": [],
     "prompt_number": 2
    },
    {
     "cell_type": "markdown",
     "metadata": {},
     "source": [
      "(<a href='#Table of Contents'>Top</a>)<a id='Participants'></a><h3>Participants</h3>\n",
      "\n",
      "* Valeria Leuter\n",
      "* Andrei Savici\n",
      "* Steven Han\n",
      "* Rajeev Kumar (CNMS/CSMD)\n",
      "* Eric Lingerfelt (CSMD)"
     ]
    },
    {
     "cell_type": "markdown",
     "metadata": {},
     "source": [
      "(<a href='#Table of Contents'>Top</a>)<a id='Goals'></a><h3>Goals</h3>\n",
      "\n",
      "My tasks are the following:  \n",
      "\n",
      "* Script to calculate $\\chi^2$ between a model and experimental specular profile.  \n",
      "* Implementation of the swarm particle algorithm to try new models.  "
     ]
    },
    {
     "cell_type": "markdown",
     "metadata": {},
     "source": [
      "(<a href='#benchmark'>Top</a>)<h2>Benchmark</h2>"
     ]
    },
    {
     "cell_type": "markdown",
     "metadata": {},
     "source": [
      "(<a href='#benchmark'>Top</a>)<a id='benchmark.description'></a><h3>Description</h3>  \n",
      "\n",
      "Github [issue #2](https://github.com/jmborr/LDRDGINS/issues/2)\n",
      "\n",
      "A multilayer system for organic spintronics multilayer film with the following structure:\n",
      "SrTiO2 substrate//LaSrMnO3/SD-PFO (polymer)/Co/Ag.  \n",
      "It was measured in a saturating external magnetic field of 1T at room T.  \n",
      "\n",
      "In the [index.html](benchmark/index.html) file you will find the resolution function and layer-by-layer parameters.  \n",
      "File [profile1.png](benchmark/profile1.png) show the plots (depth profiles) of all components of the model.  \n",
      "\n",
      "The experimental data consist of three files:  \n",
      "Q, exp1, exp2 -- q is momentum transfer, exp1 is R+ and exp2 is R-. File <i>exp1</i> contains intensity and error (same for <i>exp2</i>). File <i>q.dat</i> contains the values of $Q$ for the intensity values in the exp files.  \n",
      "\n",
      "The corresponding model after the fit also consist of 3 files:  \n",
      "Q, theor1, theor2- q is momentum transfer, theor1 is R+ and theor2 is R-. File  <i>theor1</i> contains intensity (same for <i>theor12</i>). File <i>q.dat</i> contains the values of $Q$ for the intensity values in the exp files. \n",
      "\n",
      "Plots [reflectivity1.png](benchmark/reflectivity1.png) and [reflectivity2.png](benchmark/reflectivity2.png) show the data (green) and fit (blue).  \n",
      "\n",
      "We can discuss if you need any explanation or additional information."
     ]
    },
    {
     "cell_type": "markdown",
     "metadata": {},
     "source": [
      "(<a href='#benchmark'>Top</a>)<a id='benchmark.resolution'></a><h3>Resolution function</h3>  \n",
      "\n",
      "The resolution function is modeled as a gaussian with a Q-dependent standard deviation:  \n",
      "<center>$R(Q) = \\frac{1}{\\sqrt{2\\pi\\sigma(Q)^2}} e^{-\\frac{Q^2}{2\\sigma(Q)^2}}$  \n",
      "$\\sigma(Q) = Q \\sqrt{(\\frac{\\delta \\theta}{\\theta})^2 + (\\frac{\\delta \\lambda}{\\lambda(Q)})^2}$    \n",
      "$\\lambda(Q) = 4 \\pi \\frac{sin(\\theta)}{Q}$</center>  \n",
      "\n",
      "Parameters $\\delta \\theta$, $\\theta$, and $\\delta \\lambda$ are constant over a Q-range. Each Q-range $[Q_i, Q_{i+1}]$ defines a triad $\\delta \\theta_i$, $\\theta_i$, $\\delta \\lambda_i$. Below is the info defining the resolution function in the benchmark:\n",
      "\n",
      "Theta1=0.0068;Theta2=0.01;Theta3=0.017;  \n",
      "DTheta1=0.0003;DTheta2=0.0005;DTheta3=0.0009;  \n",
      "Q1=0.03;Q2=0.045;QP1=Q=Q1)&(Q<=Q2);QP3=Q>Q2;  \n",
      "DLambda=0.005; Lambda=Q.*0; Sigma=Q.*0;  \n",
      "Lambda(QP1)=4*pi*sin(Theta1)./Q(QP1);   \n",
      "Lambda(QP2)=4*pi*sin(Theta2)./Q(QP2);  \n",
      "Lambda(QP3)=4*pi*sin(Theta3)./Q(QP3);   \n",
      "Sigma(QP1)=Q(QP1).*sqrt((DTheta1/Theta1)^2+(DLambda./Lambda(QP1)).^2);  \n",
      "Sigma(QP2)=Q(QP2).*sqrt((DTheta2/Theta2)^2+(DLambda./Lambda(QP2)).^2);   \n",
      "Sigma(QP3)=Q(QP3).*sqrt((DTheta3/Theta3)^2+(DLambda./Lambda(QP3)).^2);  \n",
      "\n",
      "There are three Q-ranges: $[Q_0 \\equiv 0, Q_1]$, $[Q_1, Q_2]$, $[Q_2, Q_3]$, and $[Q_3, Q_4 \\equiv \\infty]$.\n",
      "\n",
      "**Problem**: at the boundary Q=Q_i denoting the transition between Q-ranges, $\\sigma$ undergoes a finite discontinuity. Hence the convolutions on either side of the boundary $\\lim_{Q \\to Q^-_0} R(Q) \\otimes S(Q)$ and $\\lim_{Q \\to Q^+_0} R(Q) \\otimes S(Q)$ are different.  \n",
      "\n",
      "**Solution**: we partition the experimental profile into as many Q-ranges as the resolution function contains. Then, we will do independent comparisons between experiment and simulation, each comparision within a particular Q-range:  \n",
      "Compare $S_{exp}(Q)$ with $\\alpha_i \\cdot R(Q) \\otimes S_{sim}(Q) + (a_iQ+b_i)$ with rescaling parameter $\\alpha_i$ and linear background parameters $a_i$ and $b_i$ are different for each Q-range.  "
     ]
    },
    {
     "cell_type": "markdown",
     "metadata": {},
     "source": [
      "<a id='Meetings'></a><h2>Meetings</h2>"
     ]
    },
    {
     "cell_type": "markdown",
     "metadata": {},
     "source": [
      "(<a href='#Meetings'>Top</a>)<a id='Meetings.2016.XX.XX'></a><h3>Meeting template</h3>\n",
      "Write something here."
     ]
    },
    {
     "cell_type": "markdown",
     "metadata": {},
     "source": [
      "(<a href='#Table of Contents'>Top</a>)<a id='Syntax'></a><h3>Syntax Examples</h3>\n",
      "local link: [link](files/link)</br>\n",
      "remote link: <a href=\"http://ambermd.org/\">http://ambermd.org</a>\n",
      "<font face=\"courier new\"> font face=\"courier new\" </font><br/>\n",
      "$$S_{model}(Q,E)=A(Q)\\cdot S_{elastic}(E) + B(Q)\\cdot S_{simulation}(Q,E)\\otimes S_{elastic}(E) + C(Q)+D(Q)\\cdot E$$\n",
      "<pre> Quoted text </pre>\n",
      "<center><table><tr>\n",
      "<td><a href=\"files/image.png\"><img src=\"files/image.png\" width=\"300\" height=\"250\" alt=\"image here\"></a> <br/>\n",
      "    <i>image caption</i></td>\n",
      "<td>some text</td>\n",
      "</tr></table></center>"
     ]
    },
    {
     "cell_type": "code",
     "collapsed": false,
     "input": [],
     "language": "python",
     "metadata": {},
     "outputs": [],
     "prompt_number": null
    }
   ],
   "metadata": {}
  }
 ]
}